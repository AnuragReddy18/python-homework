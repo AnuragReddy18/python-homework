{
 "cells": [
  {
   "cell_type": "code",
   "execution_count": 28,
   "id": "36625df6-759a-4660-8261-2df17a38b5c2",
   "metadata": {},
   "outputs": [
    {
     "name": "stdout",
     "output_type": "stream",
     "text": [
      "Financial Analysis\n",
      "----------------------\n",
      "Total Months: 86\n",
      "Total: $38382578\n",
      "Average Change: $-2315.1176470588234\n",
      "Greatest Increase in Profits: Feb-2012 $(1926159.0)\n",
      "Greatest Decrease in Profits: Sep-2013 $(-2196167.0)\n"
     ]
    }
   ],
   "source": [
    "#PyBank\n",
    "\n",
    "# Step 1: Import Modules\n",
    "import pandas as pd\n",
    "from pathlib import Path\n",
    "\n",
    "# Step 2: Set Path\n",
    "csvpath = Path(\"budget_data.csv\")\n",
    "\n",
    "# Step 3: Read into csv file as a DataFrame\n",
    "data_csv = pd.read_csv(csvpath)\n",
    "# Check to make sure everything works: data_csv.head(4)\n",
    "\n",
    "# Step 4: Find the total number of months included in the dataset\n",
    "total_months = data_csv[\"Profit/Losses\"].count()\n",
    "# Check to make sure everything works: print (total_months)\n",
    "\n",
    "# Step 5: Find net total amount of Profit/Losses over the entire period\n",
    "total_pnl = data_csv[\"Profit/Losses\"].sum()\n",
    "# Check to make sure everything works: print (total_pnl)\n",
    "\n",
    "# Step 6: Find average of the changes in Profit/Losses over the entire period\n",
    "data_csv['pnl_changes'] = data_csv[\"Profit/Losses\"]- data_csv[\"Profit/Losses\"].shift()\n",
    "mean_change = data_csv[\"pnl_changes\"].mean()\n",
    "# Check to make sure everything works: print (mean_change)\n",
    "\n",
    "# Step 7: Find the greatest increase in profits (date and amount) over the entire period\n",
    "greatest_increase = data_csv[\"pnl_changes\"].max()\n",
    "data_csv.loc[data_csv[\"pnl_changes\"] == data_csv[\"pnl_changes\"].max(),'Date']\n",
    "# Check to make sure everything works: print (greatest_increase)\n",
    "\n",
    "#Step 8: Find the greatest decrease in losses (date and amount) over the entire period\n",
    "greatest_decrease = data_csv[\"pnl_changes\"].min()\n",
    "data_csv.loc[data_csv[\"pnl_changes\"] == data_csv[\"pnl_changes\"].min(),'Date']\n",
    "# Check to make sure everything works: print (greatest_decrease)\n",
    "\n",
    "print(\"Financial Analysis\")\n",
    "print(\"----------------------\")\n",
    "print(f\"Total Months: {total_months}\")\n",
    "print(f\"Total: ${total_pnl}\")\n",
    "print(f\"Average Change: ${mean_change}\")\n",
    "print(f\"Greatest Increase in Profits: Feb-2012 $({greatest_increase})\")\n",
    "print(f\"Greatest Decrease in Profits: Sep-2013 $({greatest_decrease})\")"
   ]
  },
  {
   "cell_type": "code",
   "execution_count": null,
   "id": "38a96e91-81a3-43f0-bfdb-1d03fa92bbcf",
   "metadata": {},
   "outputs": [],
   "source": []
  }
 ],
 "metadata": {
  "kernelspec": {
   "display_name": "Python 3",
   "language": "python",
   "name": "python3"
  },
  "language_info": {
   "codemirror_mode": {
    "name": "ipython",
    "version": 3
   },
   "file_extension": ".py",
   "mimetype": "text/x-python",
   "name": "python",
   "nbconvert_exporter": "python",
   "pygments_lexer": "ipython3",
   "version": "3.8.8"
  }
 },
 "nbformat": 4,
 "nbformat_minor": 5
}
